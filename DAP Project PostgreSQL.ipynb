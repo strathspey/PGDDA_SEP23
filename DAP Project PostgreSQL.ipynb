{
 "cells": [
  {
   "cell_type": "markdown",
   "metadata": {},
   "source": [
    "# 2.1 PostgreSQL"
   ]
  },
  {
   "cell_type": "markdown",
   "metadata": {},
   "source": [
    "Connecting to PostgreSQL from Python"
   ]
  },
  {
   "cell_type": "code",
   "execution_count": 1,
   "metadata": {},
   "outputs": [],
   "source": [
    "import psycopg2"
   ]
  },
  {
   "cell_type": "code",
   "execution_count": 2,
   "metadata": {},
   "outputs": [
    {
     "name": "stdout",
     "output_type": "stream",
     "text": [
      "Error while connecting to PostgreSQL database \"state_percentage2\" already exists\n",
      "\n"
     ]
    }
   ],
   "source": [
    "try:\n",
    "     dbConnection = psycopg2.connect(user = \"dap\",\n",
    "                                     password = \"dap\",\n",
    "                                     host = \"192.168.56.30\",\n",
    "                                     port = \"5432\",\n",
    "                                     database = \"postgres\")\n",
    "     dbConnection.set_isolation_level(0) # AUTOCOMMIT\n",
    "     dbCursor = dbConnection.cursor()\n",
    "     dbCursor.execute('CREATE DATABASE state_percentage2;')\n",
    "     dbCursor.close()\n",
    "except (Exception , psycopg2.Error) as dbError :\n",
    "     print (\"Error while connecting to PostgreSQL\", dbError)\n",
    "finally:\n",
    "     if(dbConnection):\n",
    "         dbConnection.close()"
   ]
  },
  {
   "cell_type": "markdown",
   "metadata": {},
   "source": [
    "Creating a table in the new database"
   ]
  },
  {
   "cell_type": "code",
   "execution_count": 3,
   "metadata": {},
   "outputs": [],
   "source": [
    "createString = \"\"\"\n",
    "CREATE TABLE state_percentage2(\n",
    "state VARCHAR(255),\n",
    "internet FLOAT,\n",
    "education FLOAT);\n",
    "\"\"\""
   ]
  },
  {
   "cell_type": "code",
   "execution_count": 4,
   "metadata": {},
   "outputs": [
    {
     "name": "stdout",
     "output_type": "stream",
     "text": [
      "Error while connecting to PostgreSQL relation \"state_percentage2\" already exists\n",
      "\n"
     ]
    }
   ],
   "source": [
    "try:\n",
    "    dbConnection = psycopg2.connect(\n",
    "                                     user = \"dap\",\n",
    "                                     password = \"dap\",\n",
    "                                     host = \"192.168.56.30\",\n",
    "                                     port = \"5432\",\n",
    "                                     database = \"state_percentage2\")\n",
    "    dbConnection.set_isolation_level(0) # AUTOCOMMIT\n",
    "    dbCursor = dbConnection.cursor()\n",
    "    dbCursor.execute(createString)\n",
    "    dbCursor.close()\n",
    "except (Exception , psycopg2.Error) as dbError :\n",
    "     print (\"Error while connecting to PostgreSQL\", dbError)\n",
    "finally:\n",
    "     if(dbConnection):\n",
    "         dbConnection.close()"
   ]
  },
  {
   "cell_type": "markdown",
   "metadata": {},
   "source": [
    "Populating the table on PostgreSQL"
   ]
  },
  {
   "cell_type": "code",
   "execution_count": 5,
   "metadata": {},
   "outputs": [],
   "source": [
    "import csv\n",
    "try:\n",
    "     dbConnection = psycopg2.connect(\n",
    "                                     user = \"dap\",\n",
    "                                     password = \"dap\",\n",
    "                                     host = \"192.168.56.30\",\n",
    "                                     port = \"5432\",\n",
    "                                     database = \"state_percentage2\")\n",
    "     dbConnection.set_isolation_level(0) # AUTOCOMMIT\n",
    "     dbCursor = dbConnection.cursor()\n",
    "     insertString = \"INSERT INTO state_percentage2 VALUES ('{}',\"+\"{},\"+\"{})\"\n",
    "     with open('C:\\\\Users\\conno\\\\OneDrive\\\\Archive\\\\Studies\\\\PGDip in Data Analytics\\\\Database And Analytics Programming\\\\Project\\\\state_percentage2.csv', 'r') as f:\n",
    "         reader = csv.reader(f)\n",
    "         next(reader) # skip the header\n",
    "         for row in reader:\n",
    "             dbCursor.execute(insertString.format(*row))\n",
    "     dbCursor.close()\n",
    "except (Exception , psycopg2.Error) as dbError :\n",
    "     print (\"Error:\", dbError)\n",
    "finally:\n",
    "     if(dbConnection):\n",
    "         dbConnection.close()"
   ]
  },
  {
   "cell_type": "markdown",
   "metadata": {},
   "source": [
    "Querying the table"
   ]
  },
  {
   "cell_type": "code",
   "execution_count": 6,
   "metadata": {},
   "outputs": [
    {
     "name": "stdout",
     "output_type": "stream",
     "text": [
      "             state   internet  education\n",
      "0          Alabama  21.253731  84.265672\n",
      "1           Alaska  18.763333  91.203571\n",
      "2          Arizona  17.600000  85.720000\n",
      "3         Arkansas  21.706667  85.550667\n",
      "4       California   9.725862  85.505172\n",
      "..             ...        ...        ...\n",
      "607       Virginia  16.005263  87.990977\n",
      "608     Washington  10.053846  89.794872\n",
      "609  West Virginia  18.543636  86.210909\n",
      "610      Wisconsin  12.950000  92.633333\n",
      "611        Wyoming  11.130435  93.517391\n",
      "\n",
      "[612 rows x 3 columns]\n"
     ]
    }
   ],
   "source": [
    "import pandas as pd\n",
    "import pandas.io.sql as sqlio\n",
    "import psycopg2\n",
    "sql = \"\"\"\n",
    "     SELECT * FROM state_percentage2;\"\"\"\n",
    "try:\n",
    "     dbConnection = psycopg2.connect(\n",
    "                                     user = \"dap\",\n",
    "                                     password = \"dap\",\n",
    "                                     host = \"192.168.56.30\",\n",
    "                                     port = \"5432\",\n",
    "                                     database = \"state_percentage2\")\n",
    "     state_percentage2_dataframe = sqlio.read_sql_query(sql, dbConnection)\n",
    "except (Exception , psycopg2.Error) as dbError :\n",
    "     print (\"Error:\", dbError)\n",
    "finally:\n",
    "     if(dbConnection):\n",
    "         dbConnection.close()\n",
    "print(state_percentage2_dataframe)"
   ]
  },
  {
   "cell_type": "markdown",
   "metadata": {},
   "source": [
    "Querying and visualising the data"
   ]
  },
  {
   "cell_type": "code",
   "execution_count": 7,
   "metadata": {},
   "outputs": [
    {
     "name": "stdout",
     "output_type": "stream",
     "text": [
      "        state  No Internet Access (%)  Education Attainment (%)\n",
      "0     Alabama               21.253731                 84.265672\n",
      "1      Alaska               18.763333                 91.203571\n",
      "2     Arizona               17.600000                 85.720000\n",
      "3    Arkansas               21.706667                 85.550667\n",
      "4  California                9.725862                 85.505172\n",
      "\n"
     ]
    },
    {
     "data": {
      "image/png": "[encoded data removed]",
      "text/plain": [
       "<Figure size 432x288 with 1 Axes>"
      ]
     },
     "metadata": {
      "needs_background": "light"
     },
     "output_type": "display_data"
    }
   ],
   "source": [
    "# Seaborn visualization library\n",
    "import seaborn as sns\n",
    "\n",
    "state_percentage2_dataframe.rename(columns = {'internet':'No Internet Access (%)', 'education':'Education Attainment (%)'}, inplace = True)\n",
    "print(state_percentage2_dataframe.head())\n",
    "print()\n",
    "\n",
    "sns.regplot(x=\"No Internet Access (%)\",\n",
    "            y=\"Education Attainment (%)\", \n",
    "            data=state_percentage2_dataframe).set(title='Household Percentages');\n",
    "\n"
   ]
  },
  {
   "cell_type": "markdown",
   "metadata": {},
   "source": [
    "# 2.2 PostgreSQL"
   ]
  },
  {
   "cell_type": "markdown",
   "metadata": {},
   "source": [
    "Connecting to PostgreSQL from Python"
   ]
  },
  {
   "cell_type": "code",
   "execution_count": 8,
   "metadata": {},
   "outputs": [
    {
     "name": "stdout",
     "output_type": "stream",
     "text": [
      "Error while connecting to PostgreSQL database \"household_income\" already exists\n",
      "\n"
     ]
    }
   ],
   "source": [
    "try:\n",
    "     dbConnection = psycopg2.connect(user = \"dap\",\n",
    "                                     password = \"dap\",\n",
    "                                     host = \"192.168.56.30\",\n",
    "                                     port = \"5432\",\n",
    "                                     database = \"postgres\")\n",
    "     dbConnection.set_isolation_level(0) # AUTOCOMMIT\n",
    "     dbCursor = dbConnection.cursor()\n",
    "     dbCursor.execute('CREATE DATABASE household_income;')\n",
    "     dbCursor.close()\n",
    "except (Exception , psycopg2.Error) as dbError :\n",
    "     print (\"Error while connecting to PostgreSQL\", dbError)\n",
    "finally:\n",
    "     if(dbConnection):\n",
    "         dbConnection.close()"
   ]
  },
  {
   "cell_type": "markdown",
   "metadata": {},
   "source": [
    "Creating a table in the database"
   ]
  },
  {
   "cell_type": "code",
   "execution_count": 9,
   "metadata": {},
   "outputs": [],
   "source": [
    "createString = \"\"\"\n",
    "CREATE TABLE household_income(\n",
    "income FLOAT,\n",
    "value FLOAT);\n",
    "\"\"\""
   ]
  },
  {
   "cell_type": "code",
   "execution_count": 10,
   "metadata": {},
   "outputs": [
    {
     "name": "stdout",
     "output_type": "stream",
     "text": [
      "Error while connecting to PostgreSQL relation \"household_income\" already exists\n",
      "\n"
     ]
    }
   ],
   "source": [
    "try:\n",
    "    dbConnection = psycopg2.connect(\n",
    "                                     user = \"dap\",\n",
    "                                     password = \"dap\",\n",
    "                                     host = \"192.168.56.30\",\n",
    "                                     port = \"5432\",\n",
    "                                     database = \"household_income\")\n",
    "    dbConnection.set_isolation_level(0) # AUTOCOMMIT\n",
    "    dbCursor = dbConnection.cursor()\n",
    "    dbCursor.execute(createString)\n",
    "    dbCursor.close()\n",
    "except (Exception , psycopg2.Error) as dbError :\n",
    "     print (\"Error while connecting to PostgreSQL\", dbError)\n",
    "finally:\n",
    "     if(dbConnection):\n",
    "         dbConnection.close()"
   ]
  },
  {
   "cell_type": "markdown",
   "metadata": {},
   "source": [
    "Populating the table on PostgreSQL"
   ]
  },
  {
   "cell_type": "code",
   "execution_count": 11,
   "metadata": {},
   "outputs": [],
   "source": [
    "import csv\n",
    "try:\n",
    "     dbConnection = psycopg2.connect(\n",
    "                                     user = \"dap\",\n",
    "                                     password = \"dap\",\n",
    "                                     host = \"192.168.56.30\",\n",
    "                                     port = \"5432\",\n",
    "                                     database = \"household_income\")\n",
    "     dbConnection.set_isolation_level(0) # AUTOCOMMIT\n",
    "     dbCursor = dbConnection.cursor()\n",
    "     insertString = \"INSERT INTO household_income VALUES ({},\"+\"{})\"\n",
    "     with open('C:\\\\Users\\conno\\\\OneDrive\\\\Archive\\\\Studies\\\\PGDip in Data Analytics\\\\Database And Analytics Programming\\\\Project\\\\State5.csv', 'r') as f:\n",
    "         reader = csv.reader(f)\n",
    "         next(reader) # skip the header\n",
    "         for row in reader:\n",
    "             dbCursor.execute(insertString.format(*row))\n",
    "     dbCursor.close()\n",
    "except (Exception , psycopg2.Error) as dbError :\n",
    "     print (\"Error:\", dbError)\n",
    "finally:\n",
    "     if(dbConnection):\n",
    "         dbConnection.close()"
   ]
  },
  {
   "cell_type": "markdown",
   "metadata": {},
   "source": [
    "Querying the table"
   ]
  },
  {
   "cell_type": "code",
   "execution_count": 12,
   "metadata": {},
   "outputs": [
    {
     "name": "stdout",
     "output_type": "stream",
     "text": [
      "     income      value\n",
      "0      54.0  21.253731\n",
      "1      80.0  18.763333\n",
      "2      65.0  17.600000\n",
      "3      51.0  21.706667\n",
      "4      83.0   9.725862\n",
      "..      ...        ...\n",
      "454    79.0  16.005263\n",
      "455    80.0  10.053846\n",
      "456    49.0  18.543636\n",
      "457    65.0  12.950000\n",
      "458    67.0  11.130435\n",
      "\n",
      "[459 rows x 2 columns]\n"
     ]
    }
   ],
   "source": [
    "import pandas as pd\n",
    "import pandas.io.sql as sqlio\n",
    "import psycopg2\n",
    "sql = \"\"\"\n",
    "     SELECT * FROM household_income;\"\"\"\n",
    "try:\n",
    "     dbConnection = psycopg2.connect(\n",
    "                                     user = \"dap\",\n",
    "                                     password = \"dap\",\n",
    "                                     host = \"192.168.56.30\",\n",
    "                                     port = \"5432\",\n",
    "                                     database = \"household_income\")\n",
    "     household_income_dataframe = sqlio.read_sql_query(sql, dbConnection)\n",
    "except (Exception , psycopg2.Error) as dbError :\n",
    "     print (\"Error:\", dbError)\n",
    "finally:\n",
    "     if(dbConnection):\n",
    "         dbConnection.close()\n",
    "print(household_income_dataframe)"
   ]
  },
  {
   "cell_type": "markdown",
   "metadata": {},
   "source": [
    "Querying and visualising the data"
   ]
  },
  {
   "cell_type": "code",
   "execution_count": 13,
   "metadata": {},
   "outputs": [
    {
     "name": "stdout",
     "output_type": "stream",
     "text": [
      "   Median of the Annual Household Income x1000  No Internet Access (%)\n",
      "0                                         54.0               21.253731\n",
      "1                                         80.0               18.763333\n",
      "2                                         65.0               17.600000\n",
      "3                                         51.0               21.706667\n",
      "4                                         83.0                9.725862\n",
      "\n"
     ]
    },
    {
     "data": {
      "image/png": "[encoded data removed]",
      "text/plain": [
       "<Figure size 432x288 with 1 Axes>"
      ]
     },
     "metadata": {
      "needs_background": "light"
     },
     "output_type": "display_data"
    }
   ],
   "source": [
    "# Seaborn visualization library\n",
    "import seaborn as sns\n",
    "\n",
    "household_income_dataframe.rename(columns = {'value':'No Internet Access (%)', 'income':'Median of the Annual Household Income x1000'}, inplace = True)\n",
    "print(household_income_dataframe.head())\n",
    "print()\n",
    "\n",
    "sns.regplot(x=\"No Internet Access (%)\",\n",
    "            y=\"Median of the Annual Household Income x1000\", \n",
    "            data=household_income_dataframe).set(title='Median Household Income vs. Internet Access (%)');\n"
   ]
  },
  {
   "cell_type": "code",
   "execution_count": null,
   "metadata": {},
   "outputs": [],
   "source": []
  }
 ],
 "metadata": {
  "kernelspec": {
   "display_name": "Python 3",
   "language": "python",
   "name": "python3"
  },
  "language_info": {
   "codemirror_mode": {
    "name": "ipython",
    "version": 3
   },
   "file_extension": ".py",
   "mimetype": "text/x-python",
   "name": "python",
   "nbconvert_exporter": "python",
   "pygments_lexer": "ipython3",
   "version": "3.8.3"
  }
 },
 "nbformat": 4,
 "nbformat_minor": 4
}
